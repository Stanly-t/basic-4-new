{
  "nbformat": 4,
  "nbformat_minor": 0,
  "metadata": {
    "colab": {
      "provenance": [],
      "authorship_tag": "ABX9TyP7TIcAYmxrOFC+m75qvNyG",
      "include_colab_link": true
    },
    "kernelspec": {
      "name": "python3",
      "display_name": "Python 3"
    },
    "language_info": {
      "name": "python"
    }
  },
  "cells": [
    {
      "cell_type": "markdown",
      "metadata": {
        "id": "view-in-github",
        "colab_type": "text"
      },
      "source": [
        "<a href=\"https://colab.research.google.com/github/Stanly-t/basic-4-new/blob/main/Untitled2.ipynb\" target=\"_parent\"><img src=\"https://colab.research.google.com/assets/colab-badge.svg\" alt=\"Open In Colab\"/></a>"
      ]
    },
    {
      "cell_type": "code",
      "source": [
        "x=10"
      ],
      "metadata": {
        "id": "6YPi6XfLYZu-"
      },
      "execution_count": null,
      "outputs": []
    },
    {
      "cell_type": "code",
      "source": [
        "x=[1,2,3,4,5,6]"
      ],
      "metadata": {
        "id": "UoDMjQAJYbZ1"
      },
      "execution_count": null,
      "outputs": []
    },
    {
      "cell_type": "code",
      "source": [
        "print (x)"
      ],
      "metadata": {
        "colab": {
          "base_uri": "https://localhost:8080/"
        },
        "id": "mJCFyueiYqGE",
        "outputId": "54df5132-78ec-43c7-ead7-1978d3f34e62"
      },
      "execution_count": null,
      "outputs": [
        {
          "output_type": "stream",
          "name": "stdout",
          "text": [
            "[1, 2, 3, 4, 5, 6]\n"
          ]
        }
      ]
    },
    {
      "cell_type": "code",
      "source": [
        "type(x)"
      ],
      "metadata": {
        "colab": {
          "base_uri": "https://localhost:8080/"
        },
        "id": "bEDsl1wQYtA0",
        "outputId": "29848067-b12b-4d58-ba50-19f489f838ba"
      },
      "execution_count": null,
      "outputs": [
        {
          "output_type": "execute_result",
          "data": {
            "text/plain": [
              "list"
            ]
          },
          "metadata": {},
          "execution_count": 7
        }
      ]
    },
    {
      "cell_type": "code",
      "source": [
        "x={1,2,3,4,5,6}"
      ],
      "metadata": {
        "id": "6giJi5TPZq6y"
      },
      "execution_count": null,
      "outputs": []
    },
    {
      "cell_type": "code",
      "source": [
        "print(x)"
      ],
      "metadata": {
        "colab": {
          "base_uri": "https://localhost:8080/"
        },
        "id": "jaCs0twFZzzy",
        "outputId": "5098db38-28e8-47e4-a716-bf43872f6eda"
      },
      "execution_count": null,
      "outputs": [
        {
          "output_type": "stream",
          "name": "stdout",
          "text": [
            "{1, 2, 3, 4, 5, 6}\n"
          ]
        }
      ]
    },
    {
      "cell_type": "code",
      "source": [
        "type(x)"
      ],
      "metadata": {
        "colab": {
          "base_uri": "https://localhost:8080/"
        },
        "id": "_L__96B2Z2DC",
        "outputId": "f11ff39c-1fa0-4786-d955-3b7a513cdaa9"
      },
      "execution_count": null,
      "outputs": [
        {
          "output_type": "execute_result",
          "data": {
            "text/plain": [
              "set"
            ]
          },
          "metadata": {},
          "execution_count": 11
        }
      ]
    },
    {
      "cell_type": "code",
      "source": [
        "x=[10,20,30,40,50,60]"
      ],
      "metadata": {
        "id": "eB1WjfUSaGkq"
      },
      "execution_count": null,
      "outputs": []
    },
    {
      "cell_type": "code",
      "source": [
        "x[3]"
      ],
      "metadata": {
        "colab": {
          "base_uri": "https://localhost:8080/"
        },
        "id": "qDuvtr3YaQDx",
        "outputId": "17244336-f09a-4d63-eb7f-f33e6f551c91"
      },
      "execution_count": null,
      "outputs": [
        {
          "output_type": "execute_result",
          "data": {
            "text/plain": [
              "40"
            ]
          },
          "metadata": {},
          "execution_count": 19
        }
      ]
    },
    {
      "cell_type": "code",
      "source": [
        "x[0]"
      ],
      "metadata": {
        "colab": {
          "base_uri": "https://localhost:8080/"
        },
        "id": "G53UQLaqaWKp",
        "outputId": "15cb71e6-ba13-46d3-f21b-1b39e1aa69b9"
      },
      "execution_count": null,
      "outputs": [
        {
          "output_type": "execute_result",
          "data": {
            "text/plain": [
              "10"
            ]
          },
          "metadata": {},
          "execution_count": 20
        }
      ]
    },
    {
      "cell_type": "code",
      "source": [
        "x=[10,20,30,40]\n",
        "y=[35,46,22,96]"
      ],
      "metadata": {
        "id": "Xls-Y5O0aX3i"
      },
      "execution_count": null,
      "outputs": []
    },
    {
      "cell_type": "code",
      "source": [
        "x[0]*y[0]+x[1]*y[1]+x[2]*y[2]+x[3]*y[3]"
      ],
      "metadata": {
        "colab": {
          "base_uri": "https://localhost:8080/"
        },
        "id": "5QERKXJNa8F5",
        "outputId": "65a86cd3-501c-4963-9545-7c830fb95a4e"
      },
      "execution_count": null,
      "outputs": [
        {
          "output_type": "execute_result",
          "data": {
            "text/plain": [
              "5770"
            ]
          },
          "metadata": {},
          "execution_count": 26
        }
      ]
    },
    {
      "cell_type": "code",
      "source": [
        "x=[\"Kerala\",\"Tamil Nadu\"]\n",
        "y=[\"Chennai\",\"Trivandrum\"]"
      ],
      "metadata": {
        "id": "riuII2lCdOo0"
      },
      "execution_count": null,
      "outputs": []
    },
    {
      "cell_type": "code",
      "source": [
        "print (x[0],y[1])"
      ],
      "metadata": {
        "colab": {
          "base_uri": "https://localhost:8080/"
        },
        "id": "FeExH7Z2dukT",
        "outputId": "aa735ca4-5bad-4d91-d5a9-cd141fa7b187"
      },
      "execution_count": null,
      "outputs": [
        {
          "output_type": "stream",
          "name": "stdout",
          "text": [
            "Kerala Trivandrum\n"
          ]
        }
      ]
    },
    {
      "cell_type": "code",
      "source": [
        "print (y[0],x[1])"
      ],
      "metadata": {
        "colab": {
          "base_uri": "https://localhost:8080/"
        },
        "id": "x2khDIAHd5vs",
        "outputId": "03e2603e-e228-4342-85b5-28fe2792c05d"
      },
      "execution_count": null,
      "outputs": [
        {
          "output_type": "stream",
          "name": "stdout",
          "text": [
            "Chennai Tamil Nadu\n"
          ]
        }
      ]
    },
    {
      "cell_type": "code",
      "source": [
        "x=[10,25,26,36,39,55]"
      ],
      "metadata": {
        "id": "8Y0pmSjLeAcb"
      },
      "execution_count": null,
      "outputs": []
    },
    {
      "cell_type": "code",
      "source": [
        "x[-1]"
      ],
      "metadata": {
        "colab": {
          "base_uri": "https://localhost:8080/"
        },
        "id": "DSqZqYyXf8lb",
        "outputId": "5a999464-8bbc-401e-ed2c-e8bc65f19973"
      },
      "execution_count": null,
      "outputs": [
        {
          "output_type": "execute_result",
          "data": {
            "text/plain": [
              "55"
            ]
          },
          "metadata": {},
          "execution_count": 32
        }
      ]
    },
    {
      "cell_type": "code",
      "source": [
        "x[-2]"
      ],
      "metadata": {
        "colab": {
          "base_uri": "https://localhost:8080/"
        },
        "id": "k0rAWdV_f_Fj",
        "outputId": "71b5be07-4462-4998-9bfb-ddb8a311d9e2"
      },
      "execution_count": null,
      "outputs": [
        {
          "output_type": "execute_result",
          "data": {
            "text/plain": [
              "39"
            ]
          },
          "metadata": {},
          "execution_count": 33
        }
      ]
    },
    {
      "cell_type": "code",
      "source": [
        "x[-3]"
      ],
      "metadata": {
        "colab": {
          "base_uri": "https://localhost:8080/"
        },
        "id": "HppyU6A7gB9a",
        "outputId": "e713418d-29e9-478d-fd1c-ff8483dff493"
      },
      "execution_count": null,
      "outputs": [
        {
          "output_type": "execute_result",
          "data": {
            "text/plain": [
              "36"
            ]
          },
          "metadata": {},
          "execution_count": 34
        }
      ]
    },
    {
      "cell_type": "code",
      "source": [
        "x[-4]"
      ],
      "metadata": {
        "colab": {
          "base_uri": "https://localhost:8080/"
        },
        "id": "PqvvL0mDgEHK",
        "outputId": "3ebe0abb-8b10-4057-93b8-21263b1a615b"
      },
      "execution_count": null,
      "outputs": [
        {
          "output_type": "execute_result",
          "data": {
            "text/plain": [
              "26"
            ]
          },
          "metadata": {},
          "execution_count": 35
        }
      ]
    },
    {
      "cell_type": "code",
      "source": [
        "x[-5]"
      ],
      "metadata": {
        "colab": {
          "base_uri": "https://localhost:8080/"
        },
        "id": "2Spw54e5gFSh",
        "outputId": "a95d9aa8-151e-46d1-be88-274de3de388f"
      },
      "execution_count": null,
      "outputs": [
        {
          "output_type": "execute_result",
          "data": {
            "text/plain": [
              "25"
            ]
          },
          "metadata": {},
          "execution_count": 36
        }
      ]
    },
    {
      "cell_type": "code",
      "source": [
        "x[-6]"
      ],
      "metadata": {
        "colab": {
          "base_uri": "https://localhost:8080/"
        },
        "id": "3I9qgLWegH8h",
        "outputId": "e838f050-b9b5-425b-c7c0-e8d1d699c68b"
      },
      "execution_count": null,
      "outputs": [
        {
          "output_type": "execute_result",
          "data": {
            "text/plain": [
              "10"
            ]
          },
          "metadata": {},
          "execution_count": 37
        }
      ]
    },
    {
      "cell_type": "code",
      "source": [
        "x[-5]*x[-3]"
      ],
      "metadata": {
        "colab": {
          "base_uri": "https://localhost:8080/"
        },
        "id": "vrxK2o7_gKHy",
        "outputId": "074ef342-d34a-419b-95bc-05a85a4823e9"
      },
      "execution_count": null,
      "outputs": [
        {
          "output_type": "execute_result",
          "data": {
            "text/plain": [
              "900"
            ]
          },
          "metadata": {},
          "execution_count": 40
        }
      ]
    },
    {
      "cell_type": "code",
      "source": [
        "if x[3]==10:\n",
        "  print(\"X is 10\")\n",
        "else:\n",
        "  print(\"X is not 10\")"
      ],
      "metadata": {
        "colab": {
          "base_uri": "https://localhost:8080/"
        },
        "id": "kujvDpvnhIxT",
        "outputId": "588498a4-6fb6-4714-dda7-e7dc02deb1ce"
      },
      "execution_count": null,
      "outputs": [
        {
          "output_type": "stream",
          "name": "stdout",
          "text": [
            "X is not 10\n"
          ]
        }
      ]
    },
    {
      "cell_type": "code",
      "source": [
        "x=\"stanly\""
      ],
      "metadata": {
        "id": "UGfUHc1qiORB"
      },
      "execution_count": null,
      "outputs": []
    },
    {
      "cell_type": "code",
      "source": [
        "x[0]"
      ],
      "metadata": {
        "colab": {
          "base_uri": "https://localhost:8080/",
          "height": 35
        },
        "id": "eRCeXKo8j2hB",
        "outputId": "33510f6f-0563-4ccd-a08c-46fb2fa55fd8"
      },
      "execution_count": null,
      "outputs": [
        {
          "output_type": "execute_result",
          "data": {
            "text/plain": [
              "'s'"
            ],
            "application/vnd.google.colaboratory.intrinsic+json": {
              "type": "string"
            }
          },
          "metadata": {},
          "execution_count": 44
        }
      ]
    },
    {
      "cell_type": "code",
      "source": [
        "x[5]"
      ],
      "metadata": {
        "colab": {
          "base_uri": "https://localhost:8080/",
          "height": 35
        },
        "id": "JmO5tD3aj4GJ",
        "outputId": "836717d9-f83c-406e-99c0-5482124eb1bf"
      },
      "execution_count": null,
      "outputs": [
        {
          "output_type": "execute_result",
          "data": {
            "text/plain": [
              "'y'"
            ],
            "application/vnd.google.colaboratory.intrinsic+json": {
              "type": "string"
            }
          },
          "metadata": {},
          "execution_count": 46
        }
      ]
    },
    {
      "cell_type": "code",
      "source": [
        "if x[1]==x[5]:\n",
        "  print(\"it is same\")\n",
        "else:\n",
        "  print(\"no it is not\")"
      ],
      "metadata": {
        "colab": {
          "base_uri": "https://localhost:8080/"
        },
        "id": "uaH4ATiVj_nY",
        "outputId": "1a81b66f-eca3-474a-a92d-936aef99b90a"
      },
      "execution_count": null,
      "outputs": [
        {
          "output_type": "stream",
          "name": "stdout",
          "text": [
            "no it is not\n"
          ]
        }
      ]
    },
    {
      "cell_type": "code",
      "source": [
        "x=[10,25,26,36,39,55]\n",
        "for a in x:\n",
        "  print(a)"
      ],
      "metadata": {
        "colab": {
          "base_uri": "https://localhost:8080/"
        },
        "id": "Y16FSiprk8DH",
        "outputId": "48f7ee8c-779e-497f-e0a7-f17becd2412e"
      },
      "execution_count": null,
      "outputs": [
        {
          "output_type": "stream",
          "name": "stdout",
          "text": [
            "10\n",
            "25\n",
            "26\n",
            "36\n",
            "39\n",
            "55\n"
          ]
        }
      ]
    },
    {
      "cell_type": "code",
      "source": [
        "\n",
        "x=\"stanly\"\n",
        "for a in x:\n",
        "  print(a)\n",
        "\n",
        "  "
      ],
      "metadata": {
        "colab": {
          "base_uri": "https://localhost:8080/"
        },
        "id": "IifialNVnI8N",
        "outputId": "3d831c66-c5fc-4f79-f319-e83d4319987d"
      },
      "execution_count": null,
      "outputs": [
        {
          "output_type": "stream",
          "name": "stdout",
          "text": [
            "s\n",
            "t\n",
            "a\n",
            "n\n",
            "l\n",
            "y\n"
          ]
        }
      ]
    },
    {
      "cell_type": "code",
      "source": [
        "x=\"stanly\"\n",
        "for a in x:\n",
        "  print(a)\n",
        "\n",
        "if x==\"i\":\n",
        "  print(\"x contains i\")\n",
        "else:\n",
        "  print(\"x does not contains i\")\n"
      ],
      "metadata": {
        "colab": {
          "base_uri": "https://localhost:8080/"
        },
        "id": "dJXqsVagnlBG",
        "outputId": "19ea75e6-d974-472b-ed1c-236ef89b0387"
      },
      "execution_count": null,
      "outputs": [
        {
          "output_type": "stream",
          "name": "stdout",
          "text": [
            "s\n",
            "t\n",
            "a\n",
            "n\n",
            "l\n",
            "y\n",
            "x does not contains i\n"
          ]
        }
      ]
    },
    {
      "cell_type": "code",
      "source": [
        "x=[10,25,26,36,39,55]\n",
        "k=0\n",
        "for a in x:\n",
        "   print(\"k=\",k)\n",
        "   print(\"a=\",a)\n",
        "   k=k+a\n",
        "   print(\"k+a=\",k)\n",
        "  \n",
        "  \n",
        " \n"
      ],
      "metadata": {
        "id": "k7UvfJnBo-gT",
        "colab": {
          "base_uri": "https://localhost:8080/"
        },
        "outputId": "6639d164-250f-4f88-9970-c6346875811b"
      },
      "execution_count": 84,
      "outputs": [
        {
          "output_type": "stream",
          "name": "stdout",
          "text": [
            "k= 0\n",
            "a= 10\n",
            "k+a= 10\n",
            "k= 10\n",
            "a= 25\n",
            "k+a= 35\n",
            "k= 35\n",
            "a= 26\n",
            "k+a= 61\n",
            "k= 61\n",
            "a= 36\n",
            "k+a= 97\n",
            "k= 97\n",
            "a= 39\n",
            "k+a= 136\n",
            "k= 136\n",
            "a= 55\n",
            "k+a= 191\n"
          ]
        }
      ]
    },
    {
      "cell_type": "code",
      "source": [],
      "metadata": {
        "id": "6-dWIqhmsWjj"
      },
      "execution_count": null,
      "outputs": []
    }
  ]
}